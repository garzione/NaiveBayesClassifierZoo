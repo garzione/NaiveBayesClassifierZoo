{
 "cells": [
  {
   "cell_type": "code",
   "execution_count": 191,
   "metadata": {},
   "outputs": [],
   "source": [
    "#Justin Garzione\n",
    "#MIT License\n",
    "#Naive Bayes Classifier\n",
    "#For more data: https://archive.ics.uci.edu/ml/datasets/Zoo"
   ]
  },
  {
   "cell_type": "code",
   "execution_count": 192,
   "metadata": {},
   "outputs": [],
   "source": [
    "import sys\n",
    "import numpy as np"
   ]
  },
  {
   "cell_type": "code",
   "execution_count": 193,
   "metadata": {},
   "outputs": [],
   "source": [
    "#DEBUG MODULE\n",
    "\n",
    "#Input 1\n",
    "a = open(\"input1.txt\", \"r\")\n",
    "a1 = open(\"output1.txt\", \"r\")\n",
    "\n",
    "#Input 2\n",
    "b = open(\"input2.txt\", \"r\")\n",
    "b1 = open(\"output2.txt\", \"r\")\n",
    "\n",
    "#Input 3\n",
    "c = open(\"input3.txt\", \"r\")\n",
    "c1 = open(\"output3.txt\", \"r\")\n",
    "\n",
    "#Input 4\n",
    "d = open(\"input4.txt\", \"r\")\n",
    "d1 = open(\"output4.txt\", \"r\")\n",
    "\n",
    "#Input 5\n",
    "e = open(\"input5.txt\", \"r\")\n",
    "e1 = open(\"output5.txt\", \"r\")"
   ]
  },
  {
   "cell_type": "code",
   "execution_count": 194,
   "metadata": {},
   "outputs": [],
   "source": [
    "def calc_pX_on_Y(lookup_table,to_predict,labels,totals_dict):\n",
    "    max_list = []\n",
    "    for entry in to_predict:\n",
    "        prob_list = []\n",
    "        probability_dict = dict.fromkeys(range(1,8),1)\n",
    "        for column in range(0,len(lookup_table[0])-1):\n",
    "            temp_dict = dict.fromkeys(range(1,8),0) #This will hold counts for a given attribute (column)\n",
    "            F = 0 # This is the number of unique features\n",
    "            for row in range(0,len(lookup_table)):\n",
    "                if entry[column] == lookup_table[row][column]:\n",
    "                    temp_dict[lookup_table[row][-1]] += float(1)\n",
    "\n",
    "            if labels[column] == \"legs\":\n",
    "                F = 6 #Len of legs vals -> {0,2,4,5,6,8}\n",
    "            else:\n",
    "                F = 2 #Binary\n",
    "            for element in temp_dict.keys():\n",
    "                probability_dict[element] = probability_dict[element] * ((temp_dict[element] + 0.1) / (totals_dict[element] + (0.1*F)))\n",
    "        \n",
    "            prob_list.append(probability_dict)\n",
    "        max_list.append(prob_list)\n",
    "            \n",
    "    return max_list"
   ]
  },
  {
   "cell_type": "code",
   "execution_count": 195,
   "metadata": {},
   "outputs": [],
   "source": [
    "def calc_pY(lookup_table):\n",
    "    totals_dict = dict.fromkeys(range(1,8),0)\n",
    "    pY_dict = dict.fromkeys(range(1,8),0)\n",
    "    for row in lookup_table:\n",
    "        totals_dict[row[-1]] += float(1)\n",
    "    \n",
    "    for element in totals_dict:\n",
    "        pY_dict[element] = (totals_dict[element] + 0.1) / (len(lookup_table) + 0.1 * len(totals_dict))\n",
    "    \n",
    "    return totals_dict, pY_dict"
   ]
  },
  {
   "cell_type": "code",
   "execution_count": 196,
   "metadata": {},
   "outputs": [],
   "source": [
    "def read_data(data):\n",
    "    labels = []\n",
    "    lookup_table = []\n",
    "    to_predict = []\n",
    "    for line in data:\n",
    "        line = list(map(str.strip, line.split(',')))\n",
    "        labels = line\n",
    "        break\n",
    "    for line in data:\n",
    "        line = list(map(str.strip, line.split(',')))\n",
    "        if line[-1] == '-1':\n",
    "            to_predict.append(tuple([float(el) for ind, el in enumerate(line) if ind > 0]))\n",
    "\n",
    "        else:\n",
    "            lookup_table.append(tuple([float(el) for ind, el in enumerate(line) if ind > 0]))\n",
    "\n",
    "    return labels, lookup_table, to_predict"
   ]
  },
  {
   "cell_type": "code",
   "execution_count": 197,
   "metadata": {},
   "outputs": [],
   "source": [
    "def print_answers(max_list,pY_dict):\n",
    "    ret_list = list()\n",
    "    for answer in max_list:\n",
    "        outcome = dict.fromkeys(range(1,8),1)\n",
    "        for el in answer:\n",
    "            el = dict(el)\n",
    "            for attr in el.keys():\n",
    "                outcome[attr] = el[attr] * pY_dict[attr]\n",
    "        ret_list.append(max(outcome,key=outcome.get))\n",
    "    return ret_list"
   ]
  },
  {
   "cell_type": "code",
   "execution_count": 198,
   "metadata": {},
   "outputs": [],
   "source": [
    "def label_answers(data):\n",
    "    mod_list = list()\n",
    "    for line in data:\n",
    "        mod_list.append(int(line.rstrip()))\n",
    "    return mod_list"
   ]
  },
  {
   "cell_type": "code",
   "execution_count": 199,
   "metadata": {},
   "outputs": [
    {
     "name": "stdout",
     "output_type": "stream",
     "text": [
      "CPU times: user 8 µs, sys: 1e+03 ns, total: 9 µs\n",
      "Wall time: 11.9 µs\n"
     ]
    }
   ],
   "source": [
    "%%time\n",
    "def main():\n",
    "    labels, lookup_table, to_predict = read_data(e) #MODIFY THIS ARG\n",
    "    totals_dict, pY_dict = calc_pY(lookup_table)\n",
    "    max_list = calc_pX_on_Y(lookup_table,to_predict,labels,totals_dict)\n",
    "    model_answers = print_answers(max_list,pY_dict)\n",
    "    label_answer = label_answers(e1) #MODIFY THIS ARG\n",
    "    print(f\"Model returned: {model_answers}\")\n",
    "    print(f\"Label returned: {label_answer}\")\n",
    "    print(np.array(model_answers) == np.array(label_answer))\n",
    "    "
   ]
  },
  {
   "cell_type": "code",
   "execution_count": 200,
   "metadata": {},
   "outputs": [
    {
     "name": "stdout",
     "output_type": "stream",
     "text": [
      "Model returned: [4, 1, 1, 1, 1, 1, 1, 1, 1, 1, 2, 7, 6, 5, 2, 1, 4, 4, 1, 1]\n",
      "Label returned: [4, 1, 1, 1, 1, 1, 1, 1, 1, 1, 2, 7, 6, 5, 2, 1, 4, 4, 1, 1]\n",
      "[ True  True  True  True  True  True  True  True  True  True  True  True\n",
      "  True  True  True  True  True  True  True  True]\n"
     ]
    }
   ],
   "source": [
    "main()"
   ]
  }
 ],
 "metadata": {
  "kernelspec": {
   "display_name": "Python 3",
   "language": "python",
   "name": "python3"
  },
  "language_info": {
   "codemirror_mode": {
    "name": "ipython",
    "version": 3
   },
   "file_extension": ".py",
   "mimetype": "text/x-python",
   "name": "python",
   "nbconvert_exporter": "python",
   "pygments_lexer": "ipython3",
   "version": "3.8.5"
  }
 },
 "nbformat": 4,
 "nbformat_minor": 4
}
